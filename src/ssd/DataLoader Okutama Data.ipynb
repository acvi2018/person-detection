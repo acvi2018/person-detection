{
 "cells": [
  {
   "cell_type": "code",
   "execution_count": 2,
   "metadata": {
    "colab": {
     "autoexec": {
      "startup": false,
      "wait_interval": 0
     }
    },
    "colab_type": "code",
    "collapsed": true,
    "id": "Y1WETgB82XkW"
   },
   "outputs": [],
   "source": [
    "import torch\n",
    "from torch.utils.data import Dataset \n",
    "import pandas as pd\n",
    "import cv2\n",
    "import json\n",
    "\n",
    "class OkutamaDataset(Dataset):\n",
    "    \n",
    "    def __init__(self, meta_data_file, frame_folder, ann_folder, ann_transform=None, img_transform=None, \n",
    "                 include_occluded=True, include_generated= True):\n",
    "        self.meta_data = pd.read_csv(meta_data_file)\n",
    "        self.frame_folder = frame_folder\n",
    "        self.ann_folder = ann_folder\n",
    "        self.include_occluded = include_occluded\n",
    "        self.include_generated = include_generated\n",
    "        self.ann_transform = ann_transform\n",
    "        self.img_transform = img_transform\n",
    "        \n",
    "    def __len__(self):\n",
    "        return self.meta_data.shape[0]\n",
    "    \n",
    "    def __getitem__(self, idx):\n",
    "        image_name = self.meta_data[self.meta_data.id == idx].iloc[0]['img_file']\n",
    "        ann_file = self.meta_data[self.meta_data.id == idx].iloc[0]['ann_file']\n",
    "        img, anns, height, weight = self.pull_item(image_name, ann_file)\n",
    "        return img, anns\n",
    "        \n",
    "        \n",
    "    def pull_item(self, image_name, ann_file):\n",
    "        valid_ann_list = []\n",
    "        # Read image and json ann file\n",
    "        with open('{0}/{1}'.format(self.ann_folder, ann_file), 'r') as jfile:\n",
    "            ann_json = json.load(jfile)\n",
    "        img = cv2.imread('{0}/{1}'.format(self.frame_folder, image_name))\n",
    "        height, width, channels = img.shape\n",
    "        \n",
    "        # iterate through json and decide to include occluded and generated based on flags\n",
    "        for i in range(len(ann_json)):\n",
    "            if not self.include_occluded:\n",
    "                if int(ann_json[i]['occluded']) == 1 :\n",
    "                    continue\n",
    "            if not self.include_generated:\n",
    "                if int(ann_json[i]['generated']) == 1 :\n",
    "                    continue\n",
    "            valid_ann_list.append([ann_json[i]['xmin'], ann_json[i]['ymin'], \n",
    "                                  ann_json[i]['xmax'], ann_json[i]['ymax'], ann_json[i]['label']])\n",
    "        \n",
    "        # if annotation transform is present\n",
    "        if self.ann_transform is not None:\n",
    "            valid_ann_list = self.ann_transform(valid_ann_list, width, height)\n",
    "        \n",
    "        # if image transformation is present\n",
    "        if self.img_transform is not None:\n",
    "            valid_ann_list = np.array(valid_ann_list)\n",
    "            img, boxes, labels = self.transform(img, valid_ann_list[:, :4], valid_ann_list[:, 4])\n",
    "            # to rgb (Need to understand more....)\n",
    "            img = img[:, :, (2, 1, 0)]\n",
    "            # img = img.transpose(2, 0, 1)\n",
    "            valid_ann_list = np.hstack((boxes, np.expand_dims(labels, axis=1)))\n",
    "        \n",
    "        return torch.from_numpy(img).permute(2, 0, 1), valid_ann_list, height, width\n",
    "    \n",
    "    def pull_image(self, idx):\n",
    "        image_name = self.meta_data[self.meta_data.id == idx].iloc[0]['img_file']\n",
    "        return cv2.imread('{0}/{1}'.format(self.frame_folder, image_name), cv2.IMREAD_COLOR)\n",
    "    \n",
    "    def pull_annotation(self, idx):\n",
    "        ann_file = self.meta_data[self.meta_data.id == idx].iloc[0]['ann_file']\n",
    "        with open('{0}/{1}'.format(self.ann_folder, ann_file), 'r') as jfile:\n",
    "            ann_json = json.load(jfile)\n",
    "        valid_ann_list = []\n",
    "        for i in range(len(ann_json)):\n",
    "            if not self.include_occluded:\n",
    "                if int(ann_json[i]['occluded']) == 1 :\n",
    "                    continue\n",
    "            if not self.include_generated:\n",
    "                if int(ann_json[i]['generated']) == 1 :\n",
    "                    continue\n",
    "            valid_ann_list.append([ann_json[i]['xmin'], ann_json[i]['ymin'], \n",
    "                                  ann_json[i]['xmax'], ann_json[i]['ymax'], ann_json[i]['label']])\n",
    "        return valid_ann_list\n",
    "    \n",
    "    def pull_tensor(self, idx):\n",
    "        return torch.Tensor(self.pull_image(idx)).unsqueeze_(0)\n",
    "    \n",
    "    \n",
    "def detection_collate(batch):\n",
    "    \"\"\"Custom collate fn for dealing with batches of images that have a different\n",
    "    number of associated object annotations (bounding boxes).\n",
    "\n",
    "    Arguments:\n",
    "        batch: (tuple) A tuple of tensor images and lists of annotations\n",
    "\n",
    "    Return:\n",
    "        A tuple containing:\n",
    "            1) (tensor) batch of images stacked on their 0 dim\n",
    "            2) (list of tensors) annotations for a given image are stacked on 0 dim\n",
    "    \"\"\"\n",
    "    targets = []\n",
    "    imgs = []\n",
    "    for sample in batch:\n",
    "        imgs.append(sample[0])\n",
    "        targets.append(torch.FloatTensor(sample[1]))\n",
    "    return torch.stack(imgs, 0), targets"
   ]
  },
  {
   "cell_type": "code",
   "execution_count": 3,
   "metadata": {
    "colab": {
     "autoexec": {
      "startup": false,
      "wait_interval": 0
     }
    },
    "colab_type": "code",
    "collapsed": true,
    "id": "qro1DFhx2Xke"
   },
   "outputs": [],
   "source": [
    "class AnnotationTransform(object):\n",
    "    \n",
    "    def __init__(self, class_map):\n",
    "        self.class_map = class_map\n",
    "        \n",
    "    def __call__(self, anns, width, height):\n",
    "        '''\n",
    "        * map each annotation with corresponding index from class_map\n",
    "        * scale with height or width\n",
    "        '''\n",
    "        transformed_ann_list = []\n",
    "        for index, ann in enumerate(anns):\n",
    "            ann[0] = ann[0] / width\n",
    "            ann[1] = ann[1] / height\n",
    "            ann[2] = ann[2] / width\n",
    "            ann[3] = ann[3] / height\n",
    "            ann[4] = self.class_map[ann[4]]\n",
    "            transformed_ann_list.append(ann)\n",
    "            \n",
    "        return transformed_ann_list"
   ]
  },
  {
   "cell_type": "code",
   "execution_count": 6,
   "metadata": {
    "colab": {
     "autoexec": {
      "startup": false,
      "wait_interval": 0
     },
     "output_extras": [
      {}
     ]
    },
    "colab_type": "code",
    "id": "o-iV4xFr2Xkm",
    "outputId": "2f563353-756f-4988-dca0-20784d250758"
   },
   "outputs": [
    {
     "ename": "IndexError",
     "evalue": "Traceback (most recent call last):\n  File \"/home/vijin/anaconda3/lib/python3.6/site-packages/torch/utils/data/dataloader.py\", line 55, in _worker_loop\n    samples = collate_fn([dataset[i] for i in batch_indices])\n  File \"/home/vijin/anaconda3/lib/python3.6/site-packages/torch/utils/data/dataloader.py\", line 55, in <listcomp>\n    samples = collate_fn([dataset[i] for i in batch_indices])\n  File \"<ipython-input-2-2de2edac5df2>\", line 23, in __getitem__\n    image_name = self.meta_data[self.meta_data.id == idx].iloc[0]['img_file']\n  File \"/home/vijin/anaconda3/lib/python3.6/site-packages/pandas/core/indexing.py\", line 1328, in __getitem__\n    return self._getitem_axis(key, axis=0)\n  File \"/home/vijin/anaconda3/lib/python3.6/site-packages/pandas/core/indexing.py\", line 1749, in _getitem_axis\n    self._is_valid_integer(key, axis)\n  File \"/home/vijin/anaconda3/lib/python3.6/site-packages/pandas/core/indexing.py\", line 1638, in _is_valid_integer\n    raise IndexError(\"single positional indexer is out-of-bounds\")\nIndexError: single positional indexer is out-of-bounds\n",
     "output_type": "error",
     "traceback": [
      "\u001b[0;31m---------------------------------------------------------------------------\u001b[0m",
      "\u001b[0;31mIndexError\u001b[0m                                Traceback (most recent call last)",
      "\u001b[0;32m<ipython-input-6-3627510a1646>\u001b[0m in \u001b[0;36m<module>\u001b[0;34m()\u001b[0m\n\u001b[1;32m     10\u001b[0m \u001b[0;31m#dataset.__getitem__(3)\u001b[0m\u001b[0;34m\u001b[0m\u001b[0;34m\u001b[0m\u001b[0m\n\u001b[1;32m     11\u001b[0m \u001b[0mbatch_iterator\u001b[0m \u001b[0;34m=\u001b[0m \u001b[0miter\u001b[0m\u001b[0;34m(\u001b[0m\u001b[0mdata_loader\u001b[0m\u001b[0;34m)\u001b[0m\u001b[0;34m\u001b[0m\u001b[0m\n\u001b[0;32m---> 12\u001b[0;31m \u001b[0mimages\u001b[0m\u001b[0;34m,\u001b[0m \u001b[0mtargets\u001b[0m \u001b[0;34m=\u001b[0m \u001b[0mnext\u001b[0m\u001b[0;34m(\u001b[0m\u001b[0mbatch_iterator\u001b[0m\u001b[0;34m)\u001b[0m\u001b[0;34m\u001b[0m\u001b[0m\n\u001b[0m\u001b[1;32m     13\u001b[0m \u001b[0mtargets\u001b[0m\u001b[0;34m\u001b[0m\u001b[0m\n\u001b[1;32m     14\u001b[0m \u001b[0;34m\u001b[0m\u001b[0m\n",
      "\u001b[0;32m~/anaconda3/lib/python3.6/site-packages/torch/utils/data/dataloader.py\u001b[0m in \u001b[0;36m__next__\u001b[0;34m(self)\u001b[0m\n\u001b[1;32m    279\u001b[0m                 \u001b[0mself\u001b[0m\u001b[0;34m.\u001b[0m\u001b[0mreorder_dict\u001b[0m\u001b[0;34m[\u001b[0m\u001b[0midx\u001b[0m\u001b[0;34m]\u001b[0m \u001b[0;34m=\u001b[0m \u001b[0mbatch\u001b[0m\u001b[0;34m\u001b[0m\u001b[0m\n\u001b[1;32m    280\u001b[0m                 \u001b[0;32mcontinue\u001b[0m\u001b[0;34m\u001b[0m\u001b[0m\n\u001b[0;32m--> 281\u001b[0;31m             \u001b[0;32mreturn\u001b[0m \u001b[0mself\u001b[0m\u001b[0;34m.\u001b[0m\u001b[0m_process_next_batch\u001b[0m\u001b[0;34m(\u001b[0m\u001b[0mbatch\u001b[0m\u001b[0;34m)\u001b[0m\u001b[0;34m\u001b[0m\u001b[0m\n\u001b[0m\u001b[1;32m    282\u001b[0m \u001b[0;34m\u001b[0m\u001b[0m\n\u001b[1;32m    283\u001b[0m     \u001b[0mnext\u001b[0m \u001b[0;34m=\u001b[0m \u001b[0m__next__\u001b[0m  \u001b[0;31m# Python 2 compatibility\u001b[0m\u001b[0;34m\u001b[0m\u001b[0m\n",
      "\u001b[0;32m~/anaconda3/lib/python3.6/site-packages/torch/utils/data/dataloader.py\u001b[0m in \u001b[0;36m_process_next_batch\u001b[0;34m(self, batch)\u001b[0m\n\u001b[1;32m    299\u001b[0m         \u001b[0mself\u001b[0m\u001b[0;34m.\u001b[0m\u001b[0m_put_indices\u001b[0m\u001b[0;34m(\u001b[0m\u001b[0;34m)\u001b[0m\u001b[0;34m\u001b[0m\u001b[0m\n\u001b[1;32m    300\u001b[0m         \u001b[0;32mif\u001b[0m \u001b[0misinstance\u001b[0m\u001b[0;34m(\u001b[0m\u001b[0mbatch\u001b[0m\u001b[0;34m,\u001b[0m \u001b[0mExceptionWrapper\u001b[0m\u001b[0;34m)\u001b[0m\u001b[0;34m:\u001b[0m\u001b[0;34m\u001b[0m\u001b[0m\n\u001b[0;32m--> 301\u001b[0;31m             \u001b[0;32mraise\u001b[0m \u001b[0mbatch\u001b[0m\u001b[0;34m.\u001b[0m\u001b[0mexc_type\u001b[0m\u001b[0;34m(\u001b[0m\u001b[0mbatch\u001b[0m\u001b[0;34m.\u001b[0m\u001b[0mexc_msg\u001b[0m\u001b[0;34m)\u001b[0m\u001b[0;34m\u001b[0m\u001b[0m\n\u001b[0m\u001b[1;32m    302\u001b[0m         \u001b[0;32mreturn\u001b[0m \u001b[0mbatch\u001b[0m\u001b[0;34m\u001b[0m\u001b[0m\n\u001b[1;32m    303\u001b[0m \u001b[0;34m\u001b[0m\u001b[0m\n",
      "\u001b[0;31mIndexError\u001b[0m: Traceback (most recent call last):\n  File \"/home/vijin/anaconda3/lib/python3.6/site-packages/torch/utils/data/dataloader.py\", line 55, in _worker_loop\n    samples = collate_fn([dataset[i] for i in batch_indices])\n  File \"/home/vijin/anaconda3/lib/python3.6/site-packages/torch/utils/data/dataloader.py\", line 55, in <listcomp>\n    samples = collate_fn([dataset[i] for i in batch_indices])\n  File \"<ipython-input-2-2de2edac5df2>\", line 23, in __getitem__\n    image_name = self.meta_data[self.meta_data.id == idx].iloc[0]['img_file']\n  File \"/home/vijin/anaconda3/lib/python3.6/site-packages/pandas/core/indexing.py\", line 1328, in __getitem__\n    return self._getitem_axis(key, axis=0)\n  File \"/home/vijin/anaconda3/lib/python3.6/site-packages/pandas/core/indexing.py\", line 1749, in _getitem_axis\n    self._is_valid_integer(key, axis)\n  File \"/home/vijin/anaconda3/lib/python3.6/site-packages/pandas/core/indexing.py\", line 1638, in _is_valid_integer\n    raise IndexError(\"single positional indexer is out-of-bounds\")\nIndexError: single positional indexer is out-of-bounds\n"
     ]
    },
    {
     "name": "stderr",
     "output_type": "stream",
     "text": [
      "Process Process-2:\n",
      "Traceback (most recent call last):\n",
      "  File \"/home/vijin/anaconda3/lib/python3.6/multiprocessing/process.py\", line 258, in _bootstrap\n",
      "    self.run()\n",
      "  File \"/home/vijin/anaconda3/lib/python3.6/multiprocessing/process.py\", line 93, in run\n",
      "    self._target(*self._args, **self._kwargs)\n",
      "  File \"/home/vijin/anaconda3/lib/python3.6/site-packages/torch/utils/data/dataloader.py\", line 59, in _worker_loop\n",
      "    data_queue.put((idx, samples))\n",
      "  File \"/home/vijin/anaconda3/lib/python3.6/multiprocessing/queues.py\", line 341, in put\n",
      "    obj = _ForkingPickler.dumps(obj)\n",
      "  File \"/home/vijin/anaconda3/lib/python3.6/multiprocessing/reduction.py\", line 51, in dumps\n",
      "    cls(buf, protocol).dump(obj)\n",
      "  File \"/home/vijin/anaconda3/lib/python3.6/site-packages/torch/multiprocessing/reductions.py\", line 117, in reduce_storage\n",
      "    df = multiprocessing.reduction.DupFd(fd)\n",
      "  File \"/home/vijin/anaconda3/lib/python3.6/multiprocessing/reduction.py\", line 191, in DupFd\n",
      "    return resource_sharer.DupFd(fd)\n",
      "  File \"/home/vijin/anaconda3/lib/python3.6/multiprocessing/resource_sharer.py\", line 48, in __init__\n",
      "    new_fd = os.dup(fd)\n",
      "OSError: [Errno 9] Bad file descriptor\n"
     ]
    }
   ],
   "source": [
    "meta_data_file = '/home/vijin/iith/project/data/okutama-action-drone-data/metadata.csv'\n",
    "frame_folder = '/home/vijin/iith/project/data/okutama-action-drone-data/frames'\n",
    "ann_folder = '/home/vijin/iith/project/data/okutama-action-drone-data/annotations'\n",
    "voc_class_map = {'Person' :15}\n",
    "\n",
    "dataset = OkutamaDataset(meta_data_file, frame_folder, ann_folder, ann_transform=AnnotationTransform(voc_class_map))\n",
    "\n",
    "data_loader = torch.utils.data.DataLoader(dataset, 32,num_workers=2, shuffle=True, collate_fn=detection_collate, pin_memory=True)\n",
    "\n",
    "#dataset.__getitem__(3)\n",
    "batch_iterator = iter(data_loader)\n",
    "images, targets = next(batch_iterator)\n",
    "targets\n",
    "\n"
   ]
  },
  {
   "cell_type": "code",
   "execution_count": null,
   "metadata": {
    "collapsed": true
   },
   "outputs": [],
   "source": []
  }
 ],
 "metadata": {
  "colab": {
   "default_view": {},
   "name": "DataLoader Okutama Data.ipynb",
   "provenance": [],
   "version": "0.3.2",
   "views": {}
  },
  "kernelspec": {
   "display_name": "Python 3",
   "language": "python",
   "name": "python3"
  },
  "language_info": {
   "codemirror_mode": {
    "name": "ipython",
    "version": 3
   },
   "file_extension": ".py",
   "mimetype": "text/x-python",
   "name": "python",
   "nbconvert_exporter": "python",
   "pygments_lexer": "ipython3",
   "version": "3.6.3"
  }
 },
 "nbformat": 4,
 "nbformat_minor": 1
}
