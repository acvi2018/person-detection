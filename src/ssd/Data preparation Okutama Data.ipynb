{
 "cells": [
  {
   "cell_type": "code",
   "execution_count": 1,
   "metadata": {
    "collapsed": true
   },
   "outputs": [],
   "source": [
    "import cv2\n",
    "import matplotlib.pyplot as plt\n",
    "import numpy as np\n",
    "import sys\n",
    "import pickle\n",
    "import warnings\n",
    "import shutil\n",
    "import os\n",
    "import pandas as pd\n",
    "import re\n",
    "from moviepy.video.io.VideoFileClip import VideoFileClip\n",
    "import json\n",
    "\n",
    "%matplotlib inline\n",
    "warnings.filterwarnings('ignore')"
   ]
  },
  {
   "cell_type": "code",
   "execution_count": 2,
   "metadata": {
    "collapsed": true
   },
   "outputs": [],
   "source": [
    "# import imageio\n",
    "# imageio.plugins.ffmpeg.download()"
   ]
  },
  {
   "cell_type": "code",
   "execution_count": 3,
   "metadata": {
    "collapsed": true
   },
   "outputs": [],
   "source": [
    "def plot_boundaries(img_path, x1, y1, x2, y2):\n",
    "    img = cv2.imread(img_path)\n",
    "    cv2.rectangle(img, (x1, y1), (x2, y2), (0, 255, 0), 2)\n",
    "    gray = cv2.cvtColor(img, cv2.COLOR_RGB2BGRA)\n",
    "    plt.figure(figsize=(25,28))\n",
    "    plt.imshow(gray)\n",
    "    plt.show()"
   ]
  },
  {
   "cell_type": "code",
   "execution_count": 4,
   "metadata": {
    "collapsed": true
   },
   "outputs": [],
   "source": [
    "# plot_boundaries('data/frames/1.1.1_frame_01523.jpg',2695,435,2743,514)"
   ]
  },
  {
   "cell_type": "markdown",
   "metadata": {},
   "source": [
    "Labels: Each line contains 10+ columns, separated by spaces. The definition of these columns are:\n",
    "\n",
    "    Track ID. All rows with the same ID belong to the same person for 180 frames. Then the person gets a new idea for the next 180 frames. We will soon release an update to make the IDs consistant.\n",
    "    xmin. The top left x-coordinate of the bounding box.\n",
    "    ymin. The top left y-coordinate of the bounding box.\n",
    "    xmax. The bottom right x-coordinate of the bounding box.\n",
    "    ymax. The bottom right y-coordinate of the bounding box.\n",
    "    frame. The frame that this annotation represents.\n",
    "    lost. If 1, the annotation is outside of the view screen.\n",
    "    occluded. If 1, the annotation is occluded.\n",
    "    generated. If 1, the annotation was automatically interpolated.\n",
    "    label. The label for this annotation, enclosed in quotation marks. This field is always “Person”.\n",
    "    (+) actions. Each column after this is an action.\n"
   ]
  },
  {
   "cell_type": "code",
   "execution_count": 5,
   "metadata": {
    "collapsed": true
   },
   "outputs": [],
   "source": [
    "# ffmpeg -i ../1.1.1.mov -start_number 0 frame_%05d.jpg\n",
    "def split_video(video_file, image_name_prefix, output_path):\n",
    "\treturn subprocess.check_output('ffmpeg -i ' + os.path.abspath(video_file) + ' '+ image_name_prefix +'%d.jpg', shell=True, cwd=os.path.join(destination_path, 'JPEGImages'))\\\n",
    "\n",
    "def convert_video_to_sequences(video_file_path, video_file_name, output_path):\n",
    "    image_list = None\n",
    "    if video_file_path is not None and output_path is not None:\n",
    "        video = VideoFileClip(video_file_path)\n",
    "        image_list = video.write_images_sequence('{0}/{1}_frame_%05d.jpg'.format(output_path, video_file_name), fps=None, verbose=True, withmask=True, progress_bar=True)\n",
    "    return image_list"
   ]
  },
  {
   "cell_type": "code",
   "execution_count": 6,
   "metadata": {
    "collapsed": true
   },
   "outputs": [],
   "source": [
    "# Create json file for a frame\n",
    "def create_frame_level_annotations(annotation_file, video_file_name, output_path):\n",
    "    # map {frame : list(annotations)}\n",
    "    sep = ' '\n",
    "    columns = ['track_id', 'xmin', 'ymin', 'xmax', 'ymax','frame','lost','occluded','generated','label','action']\n",
    "    cols_req = ['track_id', 'xmin', 'ymin', 'xmax', 'ymax','lost','occluded','generated','label','action']\n",
    "    annotation_df = pd.read_csv(annotation_file, sep=sep , names=columns, header=None)\n",
    "    \n",
    "    frames = annotation_df.frame.unique()\n",
    "    for frame in frames:\n",
    "        frame_df = annotation_df[np.logical_and(annotation_df.frame == frame, annotation_df.lost == 0)][cols_req]\n",
    "        with open('{0}/{1}_frame_{2:05d}.json'.format(output_path, video_file_name, frame), 'w') as fp:\n",
    "            json.dump(list(frame_df.T.to_dict().values()), fp)\n",
    "    return frames"
   ]
  },
  {
   "cell_type": "code",
   "execution_count": 7,
   "metadata": {
    "collapsed": true
   },
   "outputs": [],
   "source": [
    "# create_frame_level_annotations('data/Labels/SingleActionLabels/3840x2160/1.1.1.txt', '1.1.1','data/annotations')\n",
    "# convert_video_to_sequences('data/1.1.1.mov', '1.1.1', 'data/frames')"
   ]
  },
  {
   "cell_type": "code",
   "execution_count": 10,
   "metadata": {},
   "outputs": [
    {
     "name": "stdout",
     "output_type": "stream",
     "text": [
      "Processing 2.1.6.mp4...\n",
      "[MoviePy] Writing frames /home/vijin/iith/project/data/okutama-action-drone-data/frames/2.1.6_frame_%05d.jpg."
     ]
    },
    {
     "name": "stderr",
     "output_type": "stream",
     "text": [
      "\n",
      "  0%|          | 0/3 [00:00<?, ?it/s]\u001b[A\n",
      " 33%|███▎      | 1/3 [00:00<00:00,  3.55it/s]\u001b[A\n",
      " 67%|██████▋   | 2/3 [00:00<00:00,  3.59it/s]\u001b[A\n",
      "100%|██████████| 3/3 [00:00<00:00,  3.60it/s]\u001b[A\n",
      "4it [00:01,  3.71it/s]                       \u001b[A\n",
      "5it [00:01,  3.78it/s]\u001b[A\n",
      "6it [00:01,  3.77it/s]\u001b[A\n",
      "7it [00:01,  3.68it/s]\u001b[A\n",
      "8it [00:02,  3.67it/s]\u001b[A\n",
      "9it [00:02,  3.78it/s]\u001b[A\n",
      "10it [00:02,  3.80it/s]\u001b[A\n",
      "11it [00:02,  3.88it/s]\u001b[A\n",
      "12it [00:03,  3.86it/s]\u001b[A\n",
      "13it [00:03,  3.90it/s]\u001b[A\n",
      "14it [00:03,  3.94it/s]\u001b[A\n",
      "15it [00:03,  3.92it/s]\u001b[A\n",
      "16it [00:04,  3.91it/s]\u001b[A\n",
      "17it [00:04,  3.93it/s]\u001b[A\n",
      "18it [00:04,  3.88it/s]\u001b[A\n",
      "19it [00:04,  3.86it/s]\u001b[A\n",
      "20it [00:05,  3.79it/s]\u001b[A\n",
      "21it [00:05,  3.85it/s]\u001b[A\n",
      "22it [00:05,  3.88it/s]\u001b[A\n",
      "23it [00:05,  3.93it/s]\u001b[A\n",
      "24it [00:06,  3.97it/s]\u001b[A\n",
      "25it [00:06,  3.97it/s]\u001b[A\n",
      "26it [00:06,  3.98it/s]\u001b[A\n",
      "27it [00:06,  4.02it/s]\u001b[A\n",
      "28it [00:07,  4.03it/s]\u001b[A\n",
      "29it [00:07,  3.92it/s]\u001b[A\n",
      "30it [00:07,  3.94it/s]\u001b[A\n",
      "31it [00:07,  3.96it/s]\u001b[A\n",
      "32it [00:08,  3.91it/s]\u001b[A\n",
      "33it [00:08,  3.95it/s]\u001b[A\n",
      "2519it [10:28,  3.95it/s]"
     ]
    },
    {
     "name": "stdout",
     "output_type": "stream",
     "text": [
      "[MoviePy]: Done writing frames /home/vijin/iith/project/data/okutama-action-drone-data/frames/2.1.6_frame_%05d.jpg.\n",
      "\n"
     ]
    },
    {
     "name": "stderr",
     "output_type": "stream",
     "text": [
      "\n"
     ]
    },
    {
     "name": "stdout",
     "output_type": "stream",
     "text": [
      "Creating frame level annotations...\n",
      "Processing 2.2.11.mp4...\n",
      "[MoviePy] Writing frames /home/vijin/iith/project/data/okutama-action-drone-data/frames/2.2.11_frame_%05d.jpg."
     ]
    },
    {
     "name": "stderr",
     "output_type": "stream",
     "text": [
      "1263it [04:47,  4.78it/s]                    "
     ]
    },
    {
     "name": "stdout",
     "output_type": "stream",
     "text": [
      "[MoviePy]: Done writing frames /home/vijin/iith/project/data/okutama-action-drone-data/frames/2.2.11_frame_%05d.jpg.\n",
      "\n"
     ]
    },
    {
     "name": "stderr",
     "output_type": "stream",
     "text": [
      "\n"
     ]
    },
    {
     "name": "stdout",
     "output_type": "stream",
     "text": [
      "Creating frame level annotations...\n",
      "Processing 1.1.3.mov...\n",
      "[MoviePy] Writing frames /home/vijin/iith/project/data/okutama-action-drone-data/frames/1.1.3_frame_%05d.jpg."
     ]
    },
    {
     "name": "stderr",
     "output_type": "stream",
     "text": [
      "1966it [07:26,  4.24it/s]                    "
     ]
    },
    {
     "name": "stdout",
     "output_type": "stream",
     "text": [
      "[MoviePy]: Done writing frames /home/vijin/iith/project/data/okutama-action-drone-data/frames/1.1.3_frame_%05d.jpg.\n",
      "\n"
     ]
    },
    {
     "name": "stderr",
     "output_type": "stream",
     "text": [
      "\n"
     ]
    },
    {
     "name": "stdout",
     "output_type": "stream",
     "text": [
      "Creating frame level annotations...\n",
      "Processing 1.2.9.mp4...\n",
      "[MoviePy] Writing frames /home/vijin/iith/project/data/okutama-action-drone-data/frames/1.2.9_frame_%05d.jpg."
     ]
    },
    {
     "name": "stderr",
     "output_type": "stream",
     "text": [
      "1347it [05:32,  4.13it/s]                    "
     ]
    },
    {
     "name": "stdout",
     "output_type": "stream",
     "text": [
      "[MoviePy]: Done writing frames /home/vijin/iith/project/data/okutama-action-drone-data/frames/1.2.9_frame_%05d.jpg.\n",
      "\n"
     ]
    },
    {
     "name": "stderr",
     "output_type": "stream",
     "text": [
      "\n"
     ]
    },
    {
     "name": "stdout",
     "output_type": "stream",
     "text": [
      "Creating frame level annotations...\n",
      "Processing 2.1.10.mp4...\n",
      "[MoviePy] Writing frames /home/vijin/iith/project/data/okutama-action-drone-data/frames/2.1.10_frame_%05d.jpg."
     ]
    },
    {
     "name": "stderr",
     "output_type": "stream",
     "text": [
      "2713it [10:51,  4.21it/s]                    "
     ]
    },
    {
     "name": "stdout",
     "output_type": "stream",
     "text": [
      "[MoviePy]: Done writing frames /home/vijin/iith/project/data/okutama-action-drone-data/frames/2.1.10_frame_%05d.jpg.\n",
      "\n"
     ]
    },
    {
     "name": "stderr",
     "output_type": "stream",
     "text": [
      "\n"
     ]
    },
    {
     "name": "stdout",
     "output_type": "stream",
     "text": [
      "Creating frame level annotations...\n",
      "Processing 1.2.11.mp4...\n",
      "[MoviePy] Writing frames /home/vijin/iith/project/data/okutama-action-drone-data/frames/1.2.11_frame_%05d.jpg."
     ]
    },
    {
     "name": "stderr",
     "output_type": "stream",
     "text": [
      "1798it [06:55,  4.84it/s]                    "
     ]
    },
    {
     "name": "stdout",
     "output_type": "stream",
     "text": [
      "[MoviePy]: Done writing frames /home/vijin/iith/project/data/okutama-action-drone-data/frames/1.2.11_frame_%05d.jpg.\n",
      "\n"
     ]
    },
    {
     "name": "stderr",
     "output_type": "stream",
     "text": [
      "\n"
     ]
    },
    {
     "name": "stdout",
     "output_type": "stream",
     "text": [
      "Creating frame level annotations...\n",
      "Processing 1.2.4.MP4...\n",
      "[MoviePy] Writing frames /home/vijin/iith/project/data/okutama-action-drone-data/frames/1.2.4_frame_%05d.jpg."
     ]
    },
    {
     "name": "stderr",
     "output_type": "stream",
     "text": [
      "1973it [07:27,  4.80it/s]                    "
     ]
    },
    {
     "name": "stdout",
     "output_type": "stream",
     "text": [
      "[MoviePy]: Done writing frames /home/vijin/iith/project/data/okutama-action-drone-data/frames/1.2.4_frame_%05d.jpg.\n",
      "\n"
     ]
    },
    {
     "name": "stderr",
     "output_type": "stream",
     "text": [
      "\n"
     ]
    },
    {
     "name": "stdout",
     "output_type": "stream",
     "text": [
      "Creating frame level annotations...\n",
      "Processing 2.1.1.mp4...\n",
      "[MoviePy] Writing frames /home/vijin/iith/project/data/okutama-action-drone-data/frames/2.1.1_frame_%05d.jpg."
     ]
    },
    {
     "name": "stderr",
     "output_type": "stream",
     "text": [
      "1218it [04:38,  4.39it/s]                    "
     ]
    },
    {
     "name": "stdout",
     "output_type": "stream",
     "text": [
      "[MoviePy]: Done writing frames /home/vijin/iith/project/data/okutama-action-drone-data/frames/2.1.1_frame_%05d.jpg.\n",
      "\n"
     ]
    },
    {
     "name": "stderr",
     "output_type": "stream",
     "text": [
      "\n"
     ]
    },
    {
     "name": "stdout",
     "output_type": "stream",
     "text": [
      "Creating frame level annotations...\n",
      "Processing 2.2.2.MP4...\n",
      "[MoviePy] Writing frames /home/vijin/iith/project/data/okutama-action-drone-data/frames/2.2.2_frame_%05d.jpg."
     ]
    },
    {
     "name": "stderr",
     "output_type": "stream",
     "text": [
      "1467it [05:19,  4.18it/s]                    "
     ]
    },
    {
     "name": "stdout",
     "output_type": "stream",
     "text": [
      "[MoviePy]: Done writing frames /home/vijin/iith/project/data/okutama-action-drone-data/frames/2.2.2_frame_%05d.jpg.\n",
      "\n"
     ]
    },
    {
     "name": "stderr",
     "output_type": "stream",
     "text": [
      "\n"
     ]
    },
    {
     "name": "stdout",
     "output_type": "stream",
     "text": [
      "Creating frame level annotations...\n",
      "Processing 1.1.2.MOV...\n",
      "[MoviePy] Writing frames /home/vijin/iith/project/data/okutama-action-drone-data/frames/1.1.2_frame_%05d.jpg."
     ]
    },
    {
     "name": "stderr",
     "output_type": "stream",
     "text": [
      "2220it [08:03,  4.69it/s]                    "
     ]
    },
    {
     "name": "stdout",
     "output_type": "stream",
     "text": [
      "[MoviePy]: Done writing frames /home/vijin/iith/project/data/okutama-action-drone-data/frames/1.1.2_frame_%05d.jpg.\n",
      "\n"
     ]
    },
    {
     "name": "stderr",
     "output_type": "stream",
     "text": [
      "\n"
     ]
    },
    {
     "name": "stdout",
     "output_type": "stream",
     "text": [
      "Creating frame level annotations...\n",
      "Processing 1.1.7.mp4...\n",
      "[MoviePy] Writing frames /home/vijin/iith/project/data/okutama-action-drone-data/frames/1.1.7_frame_%05d.jpg."
     ]
    },
    {
     "name": "stderr",
     "output_type": "stream",
     "text": [
      "2519it [09:35,  4.49it/s]                    "
     ]
    },
    {
     "name": "stdout",
     "output_type": "stream",
     "text": [
      "[MoviePy]: Done writing frames /home/vijin/iith/project/data/okutama-action-drone-data/frames/1.1.7_frame_%05d.jpg.\n",
      "\n"
     ]
    },
    {
     "name": "stderr",
     "output_type": "stream",
     "text": [
      "\n"
     ]
    },
    {
     "name": "stdout",
     "output_type": "stream",
     "text": [
      "Creating frame level annotations...\n",
      "Processing 1.1.6.mp4...\n",
      "[MoviePy] Writing frames /home/vijin/iith/project/data/okutama-action-drone-data/frames/1.1.6_frame_%05d.jpg."
     ]
    },
    {
     "name": "stderr",
     "output_type": "stream",
     "text": [
      "2380it [09:27,  4.42it/s]                    "
     ]
    },
    {
     "name": "stdout",
     "output_type": "stream",
     "text": [
      "[MoviePy]: Done writing frames /home/vijin/iith/project/data/okutama-action-drone-data/frames/1.1.6_frame_%05d.jpg.\n",
      "\n"
     ]
    },
    {
     "name": "stderr",
     "output_type": "stream",
     "text": [
      "\n"
     ]
    },
    {
     "name": "stdout",
     "output_type": "stream",
     "text": [
      "Creating frame level annotations...\n",
      "Processing 1.1.1.mov...\n",
      "[MoviePy] Writing frames /home/vijin/iith/project/data/okutama-action-drone-data/frames/1.1.1_frame_%05d.jpg."
     ]
    },
    {
     "name": "stderr",
     "output_type": "stream",
     "text": [
      "2250it [08:09,  4.58it/s]                    "
     ]
    },
    {
     "name": "stdout",
     "output_type": "stream",
     "text": [
      "[MoviePy]: Done writing frames /home/vijin/iith/project/data/okutama-action-drone-data/frames/1.1.1_frame_%05d.jpg.\n",
      "\n"
     ]
    },
    {
     "name": "stderr",
     "output_type": "stream",
     "text": [
      "\n"
     ]
    },
    {
     "name": "stdout",
     "output_type": "stream",
     "text": [
      "Creating frame level annotations...\n",
      "Processing 1.1.10.mp4...\n",
      "[MoviePy] Writing frames /home/vijin/iith/project/data/okutama-action-drone-data/frames/1.1.10_frame_%05d.jpg."
     ]
    },
    {
     "name": "stderr",
     "output_type": "stream",
     "text": [
      "2630it [10:16,  3.58it/s]                    "
     ]
    },
    {
     "name": "stdout",
     "output_type": "stream",
     "text": [
      "[MoviePy]: Done writing frames /home/vijin/iith/project/data/okutama-action-drone-data/frames/1.1.10_frame_%05d.jpg.\n",
      "\n"
     ]
    },
    {
     "name": "stderr",
     "output_type": "stream",
     "text": [
      "\n"
     ]
    },
    {
     "name": "stdout",
     "output_type": "stream",
     "text": [
      "Creating frame level annotations...\n",
      "Processing 1.1.11.MP4...\n",
      "[MoviePy] Writing frames /home/vijin/iith/project/data/okutama-action-drone-data/frames/1.1.11_frame_%05d.jpg."
     ]
    },
    {
     "name": "stderr",
     "output_type": "stream",
     "text": [
      "604it [02:26,  4.21it/s]                     "
     ]
    },
    {
     "name": "stdout",
     "output_type": "stream",
     "text": [
      "[MoviePy]: Done writing frames /home/vijin/iith/project/data/okutama-action-drone-data/frames/1.1.11_frame_%05d.jpg.\n",
      "\n"
     ]
    },
    {
     "name": "stderr",
     "output_type": "stream",
     "text": [
      "\n"
     ]
    },
    {
     "name": "stdout",
     "output_type": "stream",
     "text": [
      "Creating frame level annotations...\n",
      "Processing 2.2.4.mp4...\n",
      "[MoviePy] Writing frames /home/vijin/iith/project/data/okutama-action-drone-data/frames/2.2.4_frame_%05d.jpg."
     ]
    },
    {
     "name": "stderr",
     "output_type": "stream",
     "text": [
      "2007it [06:58,  4.05it/s]                    "
     ]
    },
    {
     "name": "stdout",
     "output_type": "stream",
     "text": [
      "[MoviePy]: Done writing frames /home/vijin/iith/project/data/okutama-action-drone-data/frames/2.2.4_frame_%05d.jpg.\n",
      "\n"
     ]
    },
    {
     "name": "stderr",
     "output_type": "stream",
     "text": [
      "\n"
     ]
    },
    {
     "name": "stdout",
     "output_type": "stream",
     "text": [
      "Creating frame level annotations...\n",
      "Processing 2.1.5.mp4...\n",
      "[MoviePy] Writing frames /home/vijin/iith/project/data/okutama-action-drone-data/frames/2.1.5_frame_%05d.jpg."
     ]
    },
    {
     "name": "stderr",
     "output_type": "stream",
     "text": [
      "1800it [07:24,  3.70it/s]                    "
     ]
    },
    {
     "name": "stdout",
     "output_type": "stream",
     "text": [
      "[MoviePy]: Done writing frames /home/vijin/iith/project/data/okutama-action-drone-data/frames/2.1.5_frame_%05d.jpg.\n",
      "\n"
     ]
    },
    {
     "name": "stderr",
     "output_type": "stream",
     "text": [
      "\n"
     ]
    },
    {
     "name": "stdout",
     "output_type": "stream",
     "text": [
      "Creating frame level annotations...\n",
      "Processing 1.2.8.MP4...\n",
      "[MoviePy] Writing frames /home/vijin/iith/project/data/okutama-action-drone-data/frames/1.2.8_frame_%05d.jpg."
     ]
    },
    {
     "name": "stderr",
     "output_type": "stream",
     "text": [
      "1542it [06:09,  3.79it/s]                    "
     ]
    },
    {
     "name": "stdout",
     "output_type": "stream",
     "text": [
      "[MoviePy]: Done writing frames /home/vijin/iith/project/data/okutama-action-drone-data/frames/1.2.8_frame_%05d.jpg.\n",
      "\n"
     ]
    },
    {
     "name": "stderr",
     "output_type": "stream",
     "text": [
      "\n"
     ]
    },
    {
     "name": "stdout",
     "output_type": "stream",
     "text": [
      "Creating frame level annotations...\n",
      "Processing 2.2.9.mp4...\n",
      "[MoviePy] Writing frames /home/vijin/iith/project/data/okutama-action-drone-data/frames/2.2.9_frame_%05d.jpg."
     ]
    },
    {
     "name": "stderr",
     "output_type": "stream",
     "text": [
      "1502it [05:59,  3.57it/s]                    "
     ]
    },
    {
     "name": "stdout",
     "output_type": "stream",
     "text": [
      "[MoviePy]: Done writing frames /home/vijin/iith/project/data/okutama-action-drone-data/frames/2.2.9_frame_%05d.jpg.\n",
      "\n"
     ]
    },
    {
     "name": "stderr",
     "output_type": "stream",
     "text": [
      "\n"
     ]
    },
    {
     "name": "stdout",
     "output_type": "stream",
     "text": [
      "Creating frame level annotations...\n",
      "Processing 2.1.2.MP4...\n",
      "[MoviePy] Writing frames /home/vijin/iith/project/data/okutama-action-drone-data/frames/2.1.2_frame_%05d.jpg."
     ]
    },
    {
     "name": "stderr",
     "output_type": "stream",
     "text": [
      "1399it [05:24,  4.34it/s]                    "
     ]
    },
    {
     "name": "stdout",
     "output_type": "stream",
     "text": [
      "[MoviePy]: Done writing frames /home/vijin/iith/project/data/okutama-action-drone-data/frames/2.1.2_frame_%05d.jpg.\n",
      "\n"
     ]
    },
    {
     "name": "stderr",
     "output_type": "stream",
     "text": [
      "\n"
     ]
    },
    {
     "name": "stdout",
     "output_type": "stream",
     "text": [
      "Creating frame level annotations...\n",
      "Processing 1.2.6.MP4...\n",
      "[MoviePy] Writing frames /home/vijin/iith/project/data/okutama-action-drone-data/frames/1.2.6_frame_%05d.jpg."
     ]
    },
    {
     "name": "stderr",
     "output_type": "stream",
     "text": [
      "1014it [04:19,  3.74it/s]                    "
     ]
    },
    {
     "name": "stdout",
     "output_type": "stream",
     "text": [
      "[MoviePy]: Done writing frames /home/vijin/iith/project/data/okutama-action-drone-data/frames/1.2.6_frame_%05d.jpg.\n",
      "\n"
     ]
    },
    {
     "name": "stderr",
     "output_type": "stream",
     "text": [
      "\n"
     ]
    },
    {
     "name": "stdout",
     "output_type": "stream",
     "text": [
      "Creating frame level annotations...\n",
      "Processing 1.2.2.MP4...\n",
      "[MoviePy] Writing frames /home/vijin/iith/project/data/okutama-action-drone-data/frames/1.2.2_frame_%05d.jpg."
     ]
    },
    {
     "name": "stderr",
     "output_type": "stream",
     "text": [
      "1099it [04:20,  4.42it/s]                    "
     ]
    },
    {
     "name": "stdout",
     "output_type": "stream",
     "text": [
      "[MoviePy]: Done writing frames /home/vijin/iith/project/data/okutama-action-drone-data/frames/1.2.2_frame_%05d.jpg.\n",
      "\n"
     ]
    },
    {
     "name": "stderr",
     "output_type": "stream",
     "text": [
      "\n"
     ]
    },
    {
     "name": "stdout",
     "output_type": "stream",
     "text": [
      "Creating frame level annotations...\n",
      "Processing 2.2.7.mp4...\n",
      "[MoviePy] Writing frames /home/vijin/iith/project/data/okutama-action-drone-data/frames/2.2.7_frame_%05d.jpg."
     ]
    },
    {
     "name": "stderr",
     "output_type": "stream",
     "text": [
      "1504it [06:30,  3.81it/s]                    "
     ]
    },
    {
     "name": "stdout",
     "output_type": "stream",
     "text": [
      "[MoviePy]: Done writing frames /home/vijin/iith/project/data/okutama-action-drone-data/frames/2.2.7_frame_%05d.jpg.\n",
      "\n"
     ]
    },
    {
     "name": "stderr",
     "output_type": "stream",
     "text": [
      "\n"
     ]
    },
    {
     "name": "stdout",
     "output_type": "stream",
     "text": [
      "Creating frame level annotations...\n",
      "Processing 2.1.3.MP4...\n",
      "[MoviePy] Writing frames /home/vijin/iith/project/data/okutama-action-drone-data/frames/2.1.3_frame_%05d.jpg."
     ]
    },
    {
     "name": "stderr",
     "output_type": "stream",
     "text": [
      "2879it [11:08,  4.54it/s]                    "
     ]
    },
    {
     "name": "stdout",
     "output_type": "stream",
     "text": [
      "[MoviePy]: Done writing frames /home/vijin/iith/project/data/okutama-action-drone-data/frames/2.1.3_frame_%05d.jpg.\n",
      "\n"
     ]
    },
    {
     "name": "stderr",
     "output_type": "stream",
     "text": [
      "\n"
     ]
    },
    {
     "name": "stdout",
     "output_type": "stream",
     "text": [
      "Creating frame level annotations...\n",
      "Processing 1.2.7.mp4...\n",
      "[MoviePy] Writing frames /home/vijin/iith/project/data/okutama-action-drone-data/frames/1.2.7_frame_%05d.jpg."
     ]
    },
    {
     "name": "stderr",
     "output_type": "stream",
     "text": [
      "1829it [07:21,  4.20it/s]                    "
     ]
    },
    {
     "name": "stdout",
     "output_type": "stream",
     "text": [
      "[MoviePy]: Done writing frames /home/vijin/iith/project/data/okutama-action-drone-data/frames/1.2.7_frame_%05d.jpg.\n",
      "\n"
     ]
    },
    {
     "name": "stderr",
     "output_type": "stream",
     "text": [
      "\n"
     ]
    },
    {
     "name": "stdout",
     "output_type": "stream",
     "text": [
      "Creating frame level annotations...\n",
      "Processing 1.2.5.mp4...\n",
      "[MoviePy] Writing frames /home/vijin/iith/project/data/okutama-action-drone-data/frames/1.2.5_frame_%05d.jpg."
     ]
    },
    {
     "name": "stderr",
     "output_type": "stream",
     "text": [
      "1024it [04:07,  4.19it/s]                    "
     ]
    },
    {
     "name": "stdout",
     "output_type": "stream",
     "text": [
      "[MoviePy]: Done writing frames /home/vijin/iith/project/data/okutama-action-drone-data/frames/1.2.5_frame_%05d.jpg.\n",
      "\n"
     ]
    },
    {
     "name": "stderr",
     "output_type": "stream",
     "text": [
      "\n"
     ]
    },
    {
     "name": "stdout",
     "output_type": "stream",
     "text": [
      "Creating frame level annotations...\n",
      "Processing 2.2.8.mp4...\n",
      "[MoviePy] Writing frames /home/vijin/iith/project/data/okutama-action-drone-data/frames/2.2.8_frame_%05d.jpg."
     ]
    },
    {
     "name": "stderr",
     "output_type": "stream",
     "text": [
      "1769it [06:26,  4.59it/s]                    "
     ]
    },
    {
     "name": "stdout",
     "output_type": "stream",
     "text": [
      "[MoviePy]: Done writing frames /home/vijin/iith/project/data/okutama-action-drone-data/frames/2.2.8_frame_%05d.jpg.\n",
      "\n"
     ]
    },
    {
     "name": "stderr",
     "output_type": "stream",
     "text": [
      "\n"
     ]
    },
    {
     "name": "stdout",
     "output_type": "stream",
     "text": [
      "Creating frame level annotations...\n",
      "Processing 2.2.5.mp4...\n",
      "[MoviePy] Writing frames /home/vijin/iith/project/data/okutama-action-drone-data/frames/2.2.5_frame_%05d.jpg."
     ]
    },
    {
     "name": "stderr",
     "output_type": "stream",
     "text": [
      "1022it [04:15,  3.90it/s]                    "
     ]
    },
    {
     "name": "stdout",
     "output_type": "stream",
     "text": [
      "[MoviePy]: Done writing frames /home/vijin/iith/project/data/okutama-action-drone-data/frames/2.2.5_frame_%05d.jpg.\n",
      "\n"
     ]
    },
    {
     "name": "stderr",
     "output_type": "stream",
     "text": [
      "\n"
     ]
    },
    {
     "name": "stdout",
     "output_type": "stream",
     "text": [
      "Creating frame level annotations...\n",
      "Processing 1.1.5.mp4...\n",
      "[MoviePy] Writing frames /home/vijin/iith/project/data/okutama-action-drone-data/frames/1.1.5_frame_%05d.jpg."
     ]
    },
    {
     "name": "stderr",
     "output_type": "stream",
     "text": [
      "1560it [06:49,  3.01it/s]                    "
     ]
    },
    {
     "name": "stdout",
     "output_type": "stream",
     "text": [
      "[MoviePy]: Done writing frames /home/vijin/iith/project/data/okutama-action-drone-data/frames/1.1.5_frame_%05d.jpg.\n",
      "\n"
     ]
    },
    {
     "name": "stderr",
     "output_type": "stream",
     "text": [
      "\n"
     ]
    },
    {
     "name": "stdout",
     "output_type": "stream",
     "text": [
      "Creating frame level annotations...\n",
      "Processing 2.2.6.mp4...\n",
      "[MoviePy] Writing frames /home/vijin/iith/project/data/okutama-action-drone-data/frames/2.2.6_frame_%05d.jpg."
     ]
    },
    {
     "name": "stderr",
     "output_type": "stream",
     "text": [
      "2246it [10:00,  3.78it/s]                    "
     ]
    },
    {
     "name": "stdout",
     "output_type": "stream",
     "text": [
      "[MoviePy]: Done writing frames /home/vijin/iith/project/data/okutama-action-drone-data/frames/2.2.6_frame_%05d.jpg.\n",
      "\n"
     ]
    },
    {
     "name": "stderr",
     "output_type": "stream",
     "text": [
      "\n"
     ]
    },
    {
     "name": "stdout",
     "output_type": "stream",
     "text": [
      "Creating frame level annotations...\n",
      "Processing 1.1.4.MP4...\n",
      "[MoviePy] Writing frames /home/vijin/iith/project/data/okutama-action-drone-data/frames/1.1.4_frame_%05d.jpg."
     ]
    },
    {
     "name": "stderr",
     "output_type": "stream",
     "text": [
      "1951it [08:22,  3.75it/s]                    "
     ]
    },
    {
     "name": "stdout",
     "output_type": "stream",
     "text": [
      "[MoviePy]: Done writing frames /home/vijin/iith/project/data/okutama-action-drone-data/frames/1.1.4_frame_%05d.jpg.\n",
      "\n"
     ]
    },
    {
     "name": "stderr",
     "output_type": "stream",
     "text": [
      "\n"
     ]
    },
    {
     "name": "stdout",
     "output_type": "stream",
     "text": [
      "Creating frame level annotations...\n",
      "Processing 2.1.7.mp4...\n",
      "[MoviePy] Writing frames /home/vijin/iith/project/data/okutama-action-drone-data/frames/2.1.7_frame_%05d.jpg."
     ]
    },
    {
     "name": "stderr",
     "output_type": "stream",
     "text": [
      "2511it [10:21,  3.98it/s]                    "
     ]
    },
    {
     "name": "stdout",
     "output_type": "stream",
     "text": [
      "[MoviePy]: Done writing frames /home/vijin/iith/project/data/okutama-action-drone-data/frames/2.1.7_frame_%05d.jpg.\n",
      "\n"
     ]
    },
    {
     "name": "stderr",
     "output_type": "stream",
     "text": [
      "\n"
     ]
    },
    {
     "name": "stdout",
     "output_type": "stream",
     "text": [
      "Creating frame level annotations...\n",
      "Finished processing....\n"
     ]
    }
   ],
   "source": [
    "# create folder for frames and annotation : frame_name and annotation will be same\n",
    "# create metadata csv file with index which has information about frames and annotation <index, image_file_name, ann_file_name>\n",
    "\n",
    "root_video_folder = '/home/vijin/iith/project/data/okutama-action-drone-data/videos'\n",
    "root_annotation_folder = '/home/vijin/iith/project/data/okutama-action-drone-data/video-annotations'\n",
    "\n",
    "frame_output_folder = '/home/vijin/iith/project/data/okutama-action-drone-data/frames'\n",
    "ann_output_folder = '/home/vijin/iith/project/data/okutama-action-drone-data/annotations'\n",
    "root_folder = '/home/vijin/iith/project/data/okutama-action-drone-data'\n",
    "\n",
    "ann_ext = '.txt'\n",
    "\n",
    "meta_data = pd.DataFrame(columns=['id', 'img_file', 'ann_file'])\n",
    "file_counter = 0\n",
    "\n",
    "for x in os.listdir(root_video_folder):\n",
    "    video_file_name = x[0:x.rindex('.')]\n",
    "    video_file_path = '{0}/{1}'.format(root_video_folder, x)\n",
    "    ann_file = '{0}/{1}{2}'.format(root_annotation_folder, video_file_name, ann_ext)\n",
    "    \n",
    "    print('Processing {0}...'.format(x))\n",
    "    image_list = convert_video_to_sequences(video_file_path, video_file_name, frame_output_folder)\n",
    "\n",
    "    print('Creating frame level annotations...')\n",
    "    frames = create_frame_level_annotations(ann_file, video_file_name, ann_output_folder)\n",
    "    \n",
    "    meta_data_tup = []\n",
    "    for index, file_path in enumerate(image_list):\n",
    "        frame_number_search = re.search('.*_frame_(\\d+).jpg', file_path[file_path.rindex('/')+1 :], re.IGNORECASE)\n",
    "        if frame_number_search:\n",
    "            if int(frame_number_search.group(1)) in frames:\n",
    "                meta_data_tup.append((file_counter+index, file_path[file_path.rindex('/')+1 :],\n",
    "                      '{0}.json'.format(file_path[file_path.rindex('/')+1 :file_path.rindex('.')])))\n",
    "        \n",
    "#     meta_data_tup = [(file_counter+index, file_path[file_path.rindex('/')+1 :],\n",
    "#                       '{0}.json'.format(file_path[file_path.rindex('/')+1 :file_path.rindex('.')])) \n",
    "#                      for index, file_path in enumerate(image_list)]\n",
    "    meta_data = meta_data.append(pd.DataFrame(meta_data_tup, columns=['id', 'img_file', 'ann_file']), ignore_index=True)\n",
    "    \n",
    "    \n",
    "    file_counter = file_counter + len(image_list)\n",
    "    \n",
    "meta_data.to_csv('{0}/metadata.csv'.format(root_folder), index=False)\n",
    "print('Finished processing....')"
   ]
  },
  {
   "cell_type": "code",
   "execution_count": null,
   "metadata": {
    "collapsed": true
   },
   "outputs": [],
   "source": []
  }
 ],
 "metadata": {
  "kernelspec": {
   "display_name": "Python 3",
   "language": "python",
   "name": "python3"
  },
  "language_info": {
   "codemirror_mode": {
    "name": "ipython",
    "version": 3
   },
   "file_extension": ".py",
   "mimetype": "text/x-python",
   "name": "python",
   "nbconvert_exporter": "python",
   "pygments_lexer": "ipython3",
   "version": "3.6.3"
  }
 },
 "nbformat": 4,
 "nbformat_minor": 2
}
